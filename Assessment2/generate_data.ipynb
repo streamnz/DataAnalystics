{
 "cells": [
  {
   "cell_type": "code",
   "execution_count": 2,
   "metadata": {
    "collapsed": true,
    "ExecuteTime": {
     "end_time": "2025-03-16T11:02:30.058438Z",
     "start_time": "2025-03-16T11:02:30.028991Z"
    }
   },
   "outputs": [
    {
     "name": "stdout",
     "output_type": "stream",
     "text": [
      "Dataset saved as 'fitness_app_users.csv'.\n"
     ]
    }
   ],
   "source": [
    "import numpy as np\n",
    "import pandas as pd\n",
    "# Generate numerical features based on activity level\n",
    "activity_dict = {'Sedentary': (50, 20, 200),\n",
    "                 'Moderate': (100, 50, 500),\n",
    "                 'Active': (150, 100, 1000)}\n",
    "\n",
    "num_users = 500\n",
    "\n",
    "# Correctly define UserID\n",
    "df = pd.DataFrame(np.arange(1001, 1001 + num_users), columns=['UserID'])\n",
    "\n",
    "# Generate other categorical columns\n",
    "df['Gender'] = np.random.choice(['Male', 'Female'], num_users, p=[0.45, 0.55])\n",
    "df['Age'] = np.random.randint(18, 60, num_users)\n",
    "df['ActivityLevel'] = np.random.choice(['Sedentary', 'Moderate', 'Active'], num_users, p=[0.3, 0.5, 0.2])\n",
    "df['Location'] = np.random.choice(['Urban', 'Suburban', 'Rural'], num_users, p=[0.5, 0.3, 0.2])\n",
    "\n",
    "# Generate numerical data based on ActivityLevel\n",
    "df['AppSessions'] = df['ActivityLevel'].apply(lambda x: int(np.random.normal(activity_dict[x][0], 15)))\n",
    "df['Distance_km'] = df['ActivityLevel'].apply(lambda x: np.round(np.random.normal(activity_dict[x][1], 5), 1))\n",
    "df['CaloriesBurned'] = df['Distance_km'] * 10 + np.random.normal(0, 50, num_users)\n",
    "\n",
    "# Save dataset\n",
    "df.to_csv('fitness_app_users.csv', index=False)\n",
    "print(\"Dataset saved as 'fitness_app_users.csv'.\")\n"
   ]
  }
 ],
 "metadata": {
  "kernelspec": {
   "display_name": "Python 3",
   "language": "python",
   "name": "python3"
  },
  "language_info": {
   "codemirror_mode": {
    "name": "ipython",
    "version": 2
   },
   "file_extension": ".py",
   "mimetype": "text/x-python",
   "name": "python",
   "nbconvert_exporter": "python",
   "pygments_lexer": "ipython2",
   "version": "2.7.6"
  }
 },
 "nbformat": 4,
 "nbformat_minor": 0
}
